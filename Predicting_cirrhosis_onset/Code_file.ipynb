{
  "cells": [
    {
      "cell_type": "markdown",
      "id": "16b9311a-c2e2-47a0-a2d7-291f4bba56a9",
      "metadata": {
        "id": "16b9311a-c2e2-47a0-a2d7-291f4bba56a9"
      },
      "source": [
        "# Predicting \n",
        "\n",
        "## Introduction\n",
        "\n",
        "### Authored by:\n",
        "#### Team Name : UPMOST\n",
        "\n",
        "Team Members: Ananya Kambhampati, Divya Mudigonda, Ajay Kumar Pendem, Divya Konakanchi.\n",
        "### Description of the analysis\n",
        "\n",
        "In this project, we are using a dataset containing Liver Patient from UCI's repository.\n",
        "\n",
        "Our prediction task is to determine whether a person needs to be diagnosed for Cirrhosis Based on chemical compounds(bilirubin, albumin, proteins, alkaline phosphatase) present in human body.\n",
        "We are using the input variables that include Age, Gender,TB(Total Bilirubin),DB(Direct Bilirubin),Alkphos(Alkaline Phosphatase),Sgpt(Alamine Aminotransferase),Sgot(Aspartate Aminotransferase) \n",
        "TP(Total Proteins),ALB(Albumin),A/G(Ratio Albumin)and Globulin Ratio Education.\n",
        "\n",
        "The important Factor here is recall.\n",
        "\n",
        "To conduct our analysis, we will utilize a set of Machine Learning Modules(k-nn, Descision Tree, RandomForest,XGBoost,Neural network, AdaBoost, and gradient boost)."
      ]
    },
    {
      "cell_type": "markdown",
      "id": "7ceda8e3-81f7-4f04-9b79-715f6bd8b47a",
      "metadata": {
        "id": "7ceda8e3-81f7-4f04-9b79-715f6bd8b47a"
      },
      "source": [
        "## Preliminary (Business) Problem Scoping\n",
        "\n",
        "We are developing a binary classifier to identify if a given person in the datasetneed to be diagnosed for Cirrhosis or not. Our positive case will therefore be Class1(Need's to be diagnosed) and Class0 (Does not need to be diagnosed) will be our negative case.\n",
        "\n",
        "We will be trying out different models and check if we can develop a model that has sufficient predictive power to accurately "
      ]
    },
    {
      "cell_type": "markdown",
      "id": "49b16901-ef42-4448-8975-aca6e61fd187",
      "metadata": {
        "id": "49b16901-ef42-4448-8975-aca6e61fd187"
      },
      "source": [
        "## Step 1 - Importing the required packages"
      ]
    },
    {
      "cell_type": "code",
      "execution_count": null,
      "id": "8d10ab9c-2145-4642-a704-98daeecd44b4",
      "metadata": {
        "id": "8d10ab9c-2145-4642-a704-98daeecd44b4"
      },
      "outputs": [],
      "source": [
        "# importing packages\n",
        "import pandas as pd\n",
        "import numpy as np\n",
        "import seaborn as sns\n",
        "import xgboost as xgb\n",
        "import matplotlib.pyplot as plt\n",
        "from sklearn.tree import plot_tree\n",
        "from sklearn.preprocessing import LabelEncoder\n",
        "from sklearn.linear_model import LogisticRegression\n",
        "from sklearn.model_selection import train_test_split\n",
        "from sklearn.tree import DecisionTreeClassifier\n",
        "from sklearn.ensemble import RandomForestClassifier, GradientBoostingClassifier, AdaBoostClassifier\n",
        "from sklearn.neighbors import KNeighborsClassifier \n",
        "from sklearn.metrics import classification_report\n",
        "from sklearn.metrics import confusion_matrix, accuracy_score, precision_score, recall_score, f1_score# plot_roc_curve, roc_auc_score, roc_curve, auc, RocCurveDisplay, PrecisionRecallDisplay, precision_recall_curve\n",
        "from sklearn.model_selection import GridSearchCV, RandomizedSearchCV\n",
        "from xgboost import XGBClassifier\n",
        "from sklearn.neural_network import MLPClassifier\n",
        "from imblearn.over_sampling import RandomOverSampler"
      ]
    },
    {
      "cell_type": "markdown",
      "id": "928d3352-9e8e-4aef-9f8f-947cd36613d7",
      "metadata": {
        "id": "928d3352-9e8e-4aef-9f8f-947cd36613d7"
      },
      "source": [
        "## Step 2: Load, clean and prepare data\n"
      ]
    },
    {
      "cell_type": "markdown",
      "id": "3b86424c-7346-4e4a-911c-e860bd0d5d57",
      "metadata": {
        "id": "3b86424c-7346-4e4a-911c-e860bd0d5d57"
      },
      "source": [
        "### Step 2.1-Loading the data from data source"
      ]
    },
    {
      "cell_type": "code",
      "execution_count": null,
      "id": "faf2bfcb-1e29-4285-9e42-4bea25b80a87",
      "metadata": {
        "colab": {
          "base_uri": "https://localhost:8080/",
          "height": 287
        },
        "id": "faf2bfcb-1e29-4285-9e42-4bea25b80a87",
        "outputId": "2b75f4f9-755b-4e2e-eeb2-d219fc1ffdb2"
      },
      "outputs": [
        {
          "name": "stdout",
          "output_type": "stream",
          "text": [
            "Mounted at /content/gdrive\n"
          ]
        },
        {
          "data": {
            "text/html": [
              "\n",
              "  <div id=\"df-68db3600-e7ed-4b9f-928d-fbfa8de6b033\">\n",
              "    <div class=\"colab-df-container\">\n",
              "      <div>\n",
              "<style scoped>\n",
              "    .dataframe tbody tr th:only-of-type {\n",
              "        vertical-align: middle;\n",
              "    }\n",
              "\n",
              "    .dataframe tbody tr th {\n",
              "        vertical-align: top;\n",
              "    }\n",
              "\n",
              "    .dataframe thead th {\n",
              "        text-align: right;\n",
              "    }\n",
              "</style>\n",
              "<table border=\"1\" class=\"dataframe\">\n",
              "  <thead>\n",
              "    <tr style=\"text-align: right;\">\n",
              "      <th></th>\n",
              "      <th>Age</th>\n",
              "      <th>Gender</th>\n",
              "      <th>Total_Bilirubin</th>\n",
              "      <th>Direct_Bilirubin</th>\n",
              "      <th>Alkaline_Phosphotase</th>\n",
              "      <th>Alamine_Aminotransferase</th>\n",
              "      <th>Aspartate_Aminotransferase</th>\n",
              "      <th>Total_Protiens</th>\n",
              "      <th>Albumin</th>\n",
              "      <th>Albumin_and_Globulin_Ratio</th>\n",
              "      <th>Result_data</th>\n",
              "    </tr>\n",
              "  </thead>\n",
              "  <tbody>\n",
              "    <tr>\n",
              "      <th>0</th>\n",
              "      <td>65</td>\n",
              "      <td>Female</td>\n",
              "      <td>0.7</td>\n",
              "      <td>0.1</td>\n",
              "      <td>187</td>\n",
              "      <td>16</td>\n",
              "      <td>18</td>\n",
              "      <td>6.8</td>\n",
              "      <td>3.3</td>\n",
              "      <td>0.90</td>\n",
              "      <td>1</td>\n",
              "    </tr>\n",
              "    <tr>\n",
              "      <th>1</th>\n",
              "      <td>62</td>\n",
              "      <td>Male</td>\n",
              "      <td>10.9</td>\n",
              "      <td>5.5</td>\n",
              "      <td>699</td>\n",
              "      <td>64</td>\n",
              "      <td>100</td>\n",
              "      <td>7.5</td>\n",
              "      <td>3.2</td>\n",
              "      <td>0.74</td>\n",
              "      <td>1</td>\n",
              "    </tr>\n",
              "    <tr>\n",
              "      <th>2</th>\n",
              "      <td>62</td>\n",
              "      <td>Male</td>\n",
              "      <td>7.3</td>\n",
              "      <td>4.1</td>\n",
              "      <td>490</td>\n",
              "      <td>60</td>\n",
              "      <td>68</td>\n",
              "      <td>7.0</td>\n",
              "      <td>3.3</td>\n",
              "      <td>0.89</td>\n",
              "      <td>1</td>\n",
              "    </tr>\n",
              "    <tr>\n",
              "      <th>3</th>\n",
              "      <td>58</td>\n",
              "      <td>Male</td>\n",
              "      <td>1.0</td>\n",
              "      <td>0.4</td>\n",
              "      <td>182</td>\n",
              "      <td>14</td>\n",
              "      <td>20</td>\n",
              "      <td>6.8</td>\n",
              "      <td>3.4</td>\n",
              "      <td>1.00</td>\n",
              "      <td>1</td>\n",
              "    </tr>\n",
              "    <tr>\n",
              "      <th>4</th>\n",
              "      <td>72</td>\n",
              "      <td>Male</td>\n",
              "      <td>3.9</td>\n",
              "      <td>2.0</td>\n",
              "      <td>195</td>\n",
              "      <td>27</td>\n",
              "      <td>59</td>\n",
              "      <td>7.3</td>\n",
              "      <td>2.4</td>\n",
              "      <td>0.40</td>\n",
              "      <td>1</td>\n",
              "    </tr>\n",
              "  </tbody>\n",
              "</table>\n",
              "</div>\n",
              "      <button class=\"colab-df-convert\" onclick=\"convertToInteractive('df-68db3600-e7ed-4b9f-928d-fbfa8de6b033')\"\n",
              "              title=\"Convert this dataframe to an interactive table.\"\n",
              "              style=\"display:none;\">\n",
              "        \n",
              "  <svg xmlns=\"http://www.w3.org/2000/svg\" height=\"24px\"viewBox=\"0 0 24 24\"\n",
              "       width=\"24px\">\n",
              "    <path d=\"M0 0h24v24H0V0z\" fill=\"none\"/>\n",
              "    <path d=\"M18.56 5.44l.94 2.06.94-2.06 2.06-.94-2.06-.94-.94-2.06-.94 2.06-2.06.94zm-11 1L8.5 8.5l.94-2.06 2.06-.94-2.06-.94L8.5 2.5l-.94 2.06-2.06.94zm10 10l.94 2.06.94-2.06 2.06-.94-2.06-.94-.94-2.06-.94 2.06-2.06.94z\"/><path d=\"M17.41 7.96l-1.37-1.37c-.4-.4-.92-.59-1.43-.59-.52 0-1.04.2-1.43.59L10.3 9.45l-7.72 7.72c-.78.78-.78 2.05 0 2.83L4 21.41c.39.39.9.59 1.41.59.51 0 1.02-.2 1.41-.59l7.78-7.78 2.81-2.81c.8-.78.8-2.07 0-2.86zM5.41 20L4 18.59l7.72-7.72 1.47 1.35L5.41 20z\"/>\n",
              "  </svg>\n",
              "      </button>\n",
              "      \n",
              "  <style>\n",
              "    .colab-df-container {\n",
              "      display:flex;\n",
              "      flex-wrap:wrap;\n",
              "      gap: 12px;\n",
              "    }\n",
              "\n",
              "    .colab-df-convert {\n",
              "      background-color: #E8F0FE;\n",
              "      border: none;\n",
              "      border-radius: 50%;\n",
              "      cursor: pointer;\n",
              "      display: none;\n",
              "      fill: #1967D2;\n",
              "      height: 32px;\n",
              "      padding: 0 0 0 0;\n",
              "      width: 32px;\n",
              "    }\n",
              "\n",
              "    .colab-df-convert:hover {\n",
              "      background-color: #E2EBFA;\n",
              "      box-shadow: 0px 1px 2px rgba(60, 64, 67, 0.3), 0px 1px 3px 1px rgba(60, 64, 67, 0.15);\n",
              "      fill: #174EA6;\n",
              "    }\n",
              "\n",
              "    [theme=dark] .colab-df-convert {\n",
              "      background-color: #3B4455;\n",
              "      fill: #D2E3FC;\n",
              "    }\n",
              "\n",
              "    [theme=dark] .colab-df-convert:hover {\n",
              "      background-color: #434B5C;\n",
              "      box-shadow: 0px 1px 3px 1px rgba(0, 0, 0, 0.15);\n",
              "      filter: drop-shadow(0px 1px 2px rgba(0, 0, 0, 0.3));\n",
              "      fill: #FFFFFF;\n",
              "    }\n",
              "  </style>\n",
              "\n",
              "      <script>\n",
              "        const buttonEl =\n",
              "          document.querySelector('#df-68db3600-e7ed-4b9f-928d-fbfa8de6b033 button.colab-df-convert');\n",
              "        buttonEl.style.display =\n",
              "          google.colab.kernel.accessAllowed ? 'block' : 'none';\n",
              "\n",
              "        async function convertToInteractive(key) {\n",
              "          const element = document.querySelector('#df-68db3600-e7ed-4b9f-928d-fbfa8de6b033');\n",
              "          const dataTable =\n",
              "            await google.colab.kernel.invokeFunction('convertToInteractive',\n",
              "                                                     [key], {});\n",
              "          if (!dataTable) return;\n",
              "\n",
              "          const docLinkHtml = 'Like what you see? Visit the ' +\n",
              "            '<a target=\"_blank\" href=https://colab.research.google.com/notebooks/data_table.ipynb>data table notebook</a>'\n",
              "            + ' to learn more about interactive tables.';\n",
              "          element.innerHTML = '';\n",
              "          dataTable['output_type'] = 'display_data';\n",
              "          await google.colab.output.renderOutput(dataTable, element);\n",
              "          const docLink = document.createElement('div');\n",
              "          docLink.innerHTML = docLinkHtml;\n",
              "          element.appendChild(docLink);\n",
              "        }\n",
              "      </script>\n",
              "    </div>\n",
              "  </div>\n",
              "  "
            ],
            "text/plain": [
              "   Age  Gender  Total_Bilirubin  Direct_Bilirubin  Alkaline_Phosphotase  \\\n",
              "0   65  Female              0.7               0.1                   187   \n",
              "1   62    Male             10.9               5.5                   699   \n",
              "2   62    Male              7.3               4.1                   490   \n",
              "3   58    Male              1.0               0.4                   182   \n",
              "4   72    Male              3.9               2.0                   195   \n",
              "\n",
              "   Alamine_Aminotransferase  Aspartate_Aminotransferase  Total_Protiens  \\\n",
              "0                        16                          18             6.8   \n",
              "1                        64                         100             7.5   \n",
              "2                        60                          68             7.0   \n",
              "3                        14                          20             6.8   \n",
              "4                        27                          59             7.3   \n",
              "\n",
              "   Albumin  Albumin_and_Globulin_Ratio  Result_data  \n",
              "0      3.3                        0.90            1  \n",
              "1      3.2                        0.74            1  \n",
              "2      3.3                        0.89            1  \n",
              "3      3.4                        1.00            1  \n",
              "4      2.4                        0.40            1  "
            ]
          },
          "execution_count": 3,
          "metadata": {},
          "output_type": "execute_result"
        }
      ],
      "source": [
        "# Loading the data file \n",
        "from google.colab import drive \n",
        "drive.mount('/content/gdrive')\n",
        "\n",
        "patient_data=pd.read_csv('gdrive/My Drive/indian_liver_patient.csv')\n",
        "\n",
        "patient_data.head(5)"
      ]
    },
    {
      "cell_type": "markdown",
      "id": "a25ded49-9a1d-409f-b08b-afcf1bbb5550",
      "metadata": {
        "id": "a25ded49-9a1d-409f-b08b-afcf1bbb5550"
      },
      "source": [
        "### Step 2.2- Data Exploration"
      ]
    },
    {
      "cell_type": "code",
      "execution_count": null,
      "id": "9189cc06-44a1-4939-b845-d2322d8dfbb0",
      "metadata": {
        "colab": {
          "base_uri": "https://localhost:8080/"
        },
        "id": "9189cc06-44a1-4939-b845-d2322d8dfbb0",
        "outputId": "a846e7f8-2d4f-48b9-db68-c99f721f0115"
      },
      "outputs": [
        {
          "name": "stdout",
          "output_type": "stream",
          "text": [
            "Index(['Age', 'Gender', 'Total_Bilirubin', 'Direct_Bilirubin',\n",
            "       'Alkaline_Phosphotase', 'Alamine_Aminotransferase',\n",
            "       'Aspartate_Aminotransferase', 'Total_Protiens', 'Albumin',\n",
            "       'Albumin_and_Globulin_Ratio', 'Result_data'],\n",
            "      dtype='object')\n",
            "              Age  Total_Bilirubin  Direct_Bilirubin  Alkaline_Phosphotase  \\\n",
            "count  579.000000       579.000000        579.000000            579.000000   \n",
            "mean    44.782383         3.315371          1.494128            291.366149   \n",
            "std     16.221786         6.227716          2.816499            243.561863   \n",
            "min      4.000000         0.400000          0.100000             63.000000   \n",
            "25%     33.000000         0.800000          0.200000            175.500000   \n",
            "50%     45.000000         1.000000          0.300000            208.000000   \n",
            "75%     58.000000         2.600000          1.300000            298.000000   \n",
            "max     90.000000        75.000000         19.700000           2110.000000   \n",
            "\n",
            "       Alamine_Aminotransferase  Aspartate_Aminotransferase  Total_Protiens  \\\n",
            "count                579.000000                  579.000000      579.000000   \n",
            "mean                  81.126079                  110.414508        6.481693   \n",
            "std                  183.182845                  289.850034        1.084641   \n",
            "min                   10.000000                   10.000000        2.700000   \n",
            "25%                   23.000000                   25.000000        5.800000   \n",
            "50%                   35.000000                   42.000000        6.600000   \n",
            "75%                   61.000000                   87.000000        7.200000   \n",
            "max                 2000.000000                 4929.000000        9.600000   \n",
            "\n",
            "          Albumin  Albumin_and_Globulin_Ratio  Result_data  \n",
            "count  579.000000                  579.000000   579.000000  \n",
            "mean     3.138515                    0.947064     0.715026  \n",
            "std      0.794435                    0.319592     0.451792  \n",
            "min      0.900000                    0.300000     0.000000  \n",
            "25%      2.600000                    0.700000     0.000000  \n",
            "50%      3.100000                    0.930000     1.000000  \n",
            "75%      3.800000                    1.100000     1.000000  \n",
            "max      5.500000                    2.800000     1.000000  \n",
            "<class 'pandas.core.frame.DataFrame'>\n",
            "RangeIndex: 579 entries, 0 to 578\n",
            "Data columns (total 11 columns):\n",
            " #   Column                      Non-Null Count  Dtype  \n",
            "---  ------                      --------------  -----  \n",
            " 0   Age                         579 non-null    int64  \n",
            " 1   Gender                      579 non-null    object \n",
            " 2   Total_Bilirubin             579 non-null    float64\n",
            " 3   Direct_Bilirubin            579 non-null    float64\n",
            " 4   Alkaline_Phosphotase        579 non-null    int64  \n",
            " 5   Alamine_Aminotransferase    579 non-null    int64  \n",
            " 6   Aspartate_Aminotransferase  579 non-null    int64  \n",
            " 7   Total_Protiens              579 non-null    float64\n",
            " 8   Albumin                     579 non-null    float64\n",
            " 9   Albumin_and_Globulin_Ratio  579 non-null    float64\n",
            " 10  Result_data                 579 non-null    int64  \n",
            "dtypes: float64(5), int64(5), object(1)\n",
            "memory usage: 49.9+ KB\n",
            "None\n"
          ]
        }
      ],
      "source": [
        "# Explore the dataset\n",
        "# read the first row of the dataset \n",
        "print(patient_data.columns)\n",
        "print(patient_data.describe())\n",
        "print(patient_data.info())"
      ]
    },
    {
      "cell_type": "markdown",
      "id": "9df10f7d-28ce-44d1-8190-93a086d86045",
      "metadata": {
        "id": "9df10f7d-28ce-44d1-8190-93a086d86045"
      },
      "source": [
        "### 2.3 Clean/transform data\n",
        "Cleaning up column names\n",
        "Our findings from the data exploration indicate the the data requires a renaming/cleanup of column names. "
      ]
    },
    {
      "cell_type": "code",
      "execution_count": null,
      "id": "0dd81b9f-cdf1-4079-b7dc-c010f8a250e4",
      "metadata": {
        "colab": {
          "base_uri": "https://localhost:8080/"
        },
        "id": "0dd81b9f-cdf1-4079-b7dc-c010f8a250e4",
        "outputId": "74f4b60b-a9d0-41ca-b409-ab7c6f319566"
      },
      "outputs": [
        {
          "data": {
            "text/plain": [
              "Index(['Age', 'Gender', 'Total_Bilirubin', 'Direct_Bilirubin',\n",
              "       'Alkaline_Phosphotase', 'Alamine_Aminotransferase',\n",
              "       'Aspartate_Aminotransferase', 'Total_Protiens', 'Albumin',\n",
              "       'Albumin_and_Globulin_Ratio', 'Result_data'],\n",
              "      dtype='object')"
            ]
          },
          "execution_count": 5,
          "metadata": {},
          "output_type": "execute_result"
        }
      ],
      "source": [
        "patient_data.columns = [s.strip() for s in patient_data.columns] \n",
        "patient_data.columns"
      ]
    },
    {
      "cell_type": "markdown",
      "id": "hidFl-N8Y4Np",
      "metadata": {
        "id": "hidFl-N8Y4Np"
      },
      "source": [
        "### 2.4 Checking for null values"
      ]
    },
    {
      "cell_type": "code",
      "execution_count": null,
      "id": "17b54b50-df7f-4519-8596-da52d01bc22a",
      "metadata": {
        "colab": {
          "base_uri": "https://localhost:8080/"
        },
        "id": "17b54b50-df7f-4519-8596-da52d01bc22a",
        "outputId": "1c15287f-0e95-4b80-f08e-08afc9342919"
      },
      "outputs": [
        {
          "data": {
            "text/plain": [
              "Age                           0\n",
              "Gender                        0\n",
              "Total_Bilirubin               0\n",
              "Direct_Bilirubin              0\n",
              "Alkaline_Phosphotase          0\n",
              "Alamine_Aminotransferase      0\n",
              "Aspartate_Aminotransferase    0\n",
              "Total_Protiens                0\n",
              "Albumin                       0\n",
              "Albumin_and_Globulin_Ratio    0\n",
              "Result_data                   0\n",
              "dtype: int64"
            ]
          },
          "execution_count": 6,
          "metadata": {},
          "output_type": "execute_result"
        }
      ],
      "source": [
        "patient_data.isnull().sum()"
      ]
    },
    {
      "cell_type": "markdown",
      "id": "1f0f4672-4d97-4150-ab41-f9de6c82fe06",
      "metadata": {
        "id": "1f0f4672-4d97-4150-ab41-f9de6c82fe06"
      },
      "source": [
        "#### Transforming Gender column"
      ]
    },
    {
      "cell_type": "code",
      "execution_count": null,
      "id": "2f7109bf-e522-494d-8b73-55b1ab3ad241",
      "metadata": {
        "colab": {
          "base_uri": "https://localhost:8080/"
        },
        "id": "2f7109bf-e522-494d-8b73-55b1ab3ad241",
        "outputId": "e424a166-f40e-4b81-bc61-2a1e9bf578c2"
      },
      "outputs": [
        {
          "data": {
            "text/plain": [
              "Age                              int64\n",
              "Gender                        category\n",
              "Total_Bilirubin                float64\n",
              "Direct_Bilirubin               float64\n",
              "Alkaline_Phosphotase             int64\n",
              "Alamine_Aminotransferase         int64\n",
              "Aspartate_Aminotransferase       int64\n",
              "Total_Protiens                 float64\n",
              "Albumin                        float64\n",
              "Albumin_and_Globulin_Ratio     float64\n",
              "Result_data                      int64\n",
              "dtype: object"
            ]
          },
          "execution_count": 7,
          "metadata": {},
          "output_type": "execute_result"
        }
      ],
      "source": [
        "# Categorizing Gender column\n",
        "patient_data['Gender'] = patient_data['Gender'].astype('category')\n",
        "patient_data.dtypes"
      ]
    },
    {
      "cell_type": "markdown",
      "id": "fa0fd128-c6e2-4b2a-be91-24700c65f70c",
      "metadata": {
        "id": "fa0fd128-c6e2-4b2a-be91-24700c65f70c"
      },
      "source": [
        "We will encode this data using OrdinalEncoder for the Gender column"
      ]
    },
    {
      "cell_type": "code",
      "execution_count": null,
      "id": "0c8f06cd-ddfd-4e08-bacd-3b75232b383b",
      "metadata": {
        "colab": {
          "base_uri": "https://localhost:8080/",
          "height": 270
        },
        "id": "0c8f06cd-ddfd-4e08-bacd-3b75232b383b",
        "outputId": "265dc770-30ac-4f59-8143-05474ef1cec7"
      },
      "outputs": [
        {
          "data": {
            "text/html": [
              "\n",
              "  <div id=\"df-b3c4206e-3cbd-4870-944e-b497c3f656b5\">\n",
              "    <div class=\"colab-df-container\">\n",
              "      <div>\n",
              "<style scoped>\n",
              "    .dataframe tbody tr th:only-of-type {\n",
              "        vertical-align: middle;\n",
              "    }\n",
              "\n",
              "    .dataframe tbody tr th {\n",
              "        vertical-align: top;\n",
              "    }\n",
              "\n",
              "    .dataframe thead th {\n",
              "        text-align: right;\n",
              "    }\n",
              "</style>\n",
              "<table border=\"1\" class=\"dataframe\">\n",
              "  <thead>\n",
              "    <tr style=\"text-align: right;\">\n",
              "      <th></th>\n",
              "      <th>Age</th>\n",
              "      <th>Gender</th>\n",
              "      <th>Total_Bilirubin</th>\n",
              "      <th>Direct_Bilirubin</th>\n",
              "      <th>Alkaline_Phosphotase</th>\n",
              "      <th>Alamine_Aminotransferase</th>\n",
              "      <th>Aspartate_Aminotransferase</th>\n",
              "      <th>Total_Protiens</th>\n",
              "      <th>Albumin</th>\n",
              "      <th>Albumin_and_Globulin_Ratio</th>\n",
              "      <th>Result_data</th>\n",
              "    </tr>\n",
              "  </thead>\n",
              "  <tbody>\n",
              "    <tr>\n",
              "      <th>0</th>\n",
              "      <td>65</td>\n",
              "      <td>0</td>\n",
              "      <td>0.7</td>\n",
              "      <td>0.1</td>\n",
              "      <td>187</td>\n",
              "      <td>16</td>\n",
              "      <td>18</td>\n",
              "      <td>6.8</td>\n",
              "      <td>3.3</td>\n",
              "      <td>0.90</td>\n",
              "      <td>1</td>\n",
              "    </tr>\n",
              "    <tr>\n",
              "      <th>1</th>\n",
              "      <td>62</td>\n",
              "      <td>1</td>\n",
              "      <td>10.9</td>\n",
              "      <td>5.5</td>\n",
              "      <td>699</td>\n",
              "      <td>64</td>\n",
              "      <td>100</td>\n",
              "      <td>7.5</td>\n",
              "      <td>3.2</td>\n",
              "      <td>0.74</td>\n",
              "      <td>1</td>\n",
              "    </tr>\n",
              "    <tr>\n",
              "      <th>2</th>\n",
              "      <td>62</td>\n",
              "      <td>1</td>\n",
              "      <td>7.3</td>\n",
              "      <td>4.1</td>\n",
              "      <td>490</td>\n",
              "      <td>60</td>\n",
              "      <td>68</td>\n",
              "      <td>7.0</td>\n",
              "      <td>3.3</td>\n",
              "      <td>0.89</td>\n",
              "      <td>1</td>\n",
              "    </tr>\n",
              "    <tr>\n",
              "      <th>3</th>\n",
              "      <td>58</td>\n",
              "      <td>1</td>\n",
              "      <td>1.0</td>\n",
              "      <td>0.4</td>\n",
              "      <td>182</td>\n",
              "      <td>14</td>\n",
              "      <td>20</td>\n",
              "      <td>6.8</td>\n",
              "      <td>3.4</td>\n",
              "      <td>1.00</td>\n",
              "      <td>1</td>\n",
              "    </tr>\n",
              "    <tr>\n",
              "      <th>4</th>\n",
              "      <td>72</td>\n",
              "      <td>1</td>\n",
              "      <td>3.9</td>\n",
              "      <td>2.0</td>\n",
              "      <td>195</td>\n",
              "      <td>27</td>\n",
              "      <td>59</td>\n",
              "      <td>7.3</td>\n",
              "      <td>2.4</td>\n",
              "      <td>0.40</td>\n",
              "      <td>1</td>\n",
              "    </tr>\n",
              "  </tbody>\n",
              "</table>\n",
              "</div>\n",
              "      <button class=\"colab-df-convert\" onclick=\"convertToInteractive('df-b3c4206e-3cbd-4870-944e-b497c3f656b5')\"\n",
              "              title=\"Convert this dataframe to an interactive table.\"\n",
              "              style=\"display:none;\">\n",
              "        \n",
              "  <svg xmlns=\"http://www.w3.org/2000/svg\" height=\"24px\"viewBox=\"0 0 24 24\"\n",
              "       width=\"24px\">\n",
              "    <path d=\"M0 0h24v24H0V0z\" fill=\"none\"/>\n",
              "    <path d=\"M18.56 5.44l.94 2.06.94-2.06 2.06-.94-2.06-.94-.94-2.06-.94 2.06-2.06.94zm-11 1L8.5 8.5l.94-2.06 2.06-.94-2.06-.94L8.5 2.5l-.94 2.06-2.06.94zm10 10l.94 2.06.94-2.06 2.06-.94-2.06-.94-.94-2.06-.94 2.06-2.06.94z\"/><path d=\"M17.41 7.96l-1.37-1.37c-.4-.4-.92-.59-1.43-.59-.52 0-1.04.2-1.43.59L10.3 9.45l-7.72 7.72c-.78.78-.78 2.05 0 2.83L4 21.41c.39.39.9.59 1.41.59.51 0 1.02-.2 1.41-.59l7.78-7.78 2.81-2.81c.8-.78.8-2.07 0-2.86zM5.41 20L4 18.59l7.72-7.72 1.47 1.35L5.41 20z\"/>\n",
              "  </svg>\n",
              "      </button>\n",
              "      \n",
              "  <style>\n",
              "    .colab-df-container {\n",
              "      display:flex;\n",
              "      flex-wrap:wrap;\n",
              "      gap: 12px;\n",
              "    }\n",
              "\n",
              "    .colab-df-convert {\n",
              "      background-color: #E8F0FE;\n",
              "      border: none;\n",
              "      border-radius: 50%;\n",
              "      cursor: pointer;\n",
              "      display: none;\n",
              "      fill: #1967D2;\n",
              "      height: 32px;\n",
              "      padding: 0 0 0 0;\n",
              "      width: 32px;\n",
              "    }\n",
              "\n",
              "    .colab-df-convert:hover {\n",
              "      background-color: #E2EBFA;\n",
              "      box-shadow: 0px 1px 2px rgba(60, 64, 67, 0.3), 0px 1px 3px 1px rgba(60, 64, 67, 0.15);\n",
              "      fill: #174EA6;\n",
              "    }\n",
              "\n",
              "    [theme=dark] .colab-df-convert {\n",
              "      background-color: #3B4455;\n",
              "      fill: #D2E3FC;\n",
              "    }\n",
              "\n",
              "    [theme=dark] .colab-df-convert:hover {\n",
              "      background-color: #434B5C;\n",
              "      box-shadow: 0px 1px 3px 1px rgba(0, 0, 0, 0.15);\n",
              "      filter: drop-shadow(0px 1px 2px rgba(0, 0, 0, 0.3));\n",
              "      fill: #FFFFFF;\n",
              "    }\n",
              "  </style>\n",
              "\n",
              "      <script>\n",
              "        const buttonEl =\n",
              "          document.querySelector('#df-b3c4206e-3cbd-4870-944e-b497c3f656b5 button.colab-df-convert');\n",
              "        buttonEl.style.display =\n",
              "          google.colab.kernel.accessAllowed ? 'block' : 'none';\n",
              "\n",
              "        async function convertToInteractive(key) {\n",
              "          const element = document.querySelector('#df-b3c4206e-3cbd-4870-944e-b497c3f656b5');\n",
              "          const dataTable =\n",
              "            await google.colab.kernel.invokeFunction('convertToInteractive',\n",
              "                                                     [key], {});\n",
              "          if (!dataTable) return;\n",
              "\n",
              "          const docLinkHtml = 'Like what you see? Visit the ' +\n",
              "            '<a target=\"_blank\" href=https://colab.research.google.com/notebooks/data_table.ipynb>data table notebook</a>'\n",
              "            + ' to learn more about interactive tables.';\n",
              "          element.innerHTML = '';\n",
              "          dataTable['output_type'] = 'display_data';\n",
              "          await google.colab.output.renderOutput(dataTable, element);\n",
              "          const docLink = document.createElement('div');\n",
              "          docLink.innerHTML = docLinkHtml;\n",
              "          element.appendChild(docLink);\n",
              "        }\n",
              "      </script>\n",
              "    </div>\n",
              "  </div>\n",
              "  "
            ],
            "text/plain": [
              "   Age  Gender  Total_Bilirubin  Direct_Bilirubin  Alkaline_Phosphotase  \\\n",
              "0   65       0              0.7               0.1                   187   \n",
              "1   62       1             10.9               5.5                   699   \n",
              "2   62       1              7.3               4.1                   490   \n",
              "3   58       1              1.0               0.4                   182   \n",
              "4   72       1              3.9               2.0                   195   \n",
              "\n",
              "   Alamine_Aminotransferase  Aspartate_Aminotransferase  Total_Protiens  \\\n",
              "0                        16                          18             6.8   \n",
              "1                        64                         100             7.5   \n",
              "2                        60                          68             7.0   \n",
              "3                        14                          20             6.8   \n",
              "4                        27                          59             7.3   \n",
              "\n",
              "   Albumin  Albumin_and_Globulin_Ratio  Result_data  \n",
              "0      3.3                        0.90            1  \n",
              "1      3.2                        0.74            1  \n",
              "2      3.3                        0.89            1  \n",
              "3      3.4                        1.00            1  \n",
              "4      2.4                        0.40            1  "
            ]
          },
          "execution_count": 8,
          "metadata": {},
          "output_type": "execute_result"
        }
      ],
      "source": [
        "# Encode Gender column\n",
        "le =LabelEncoder()\n",
        "patient_data['Gender'] = le.fit_transform(patient_data['Gender'])\n",
        "patient_data.head()"
      ]
    },
    {
      "cell_type": "code",
      "execution_count": null,
      "id": "5OboDX_xc4I9",
      "metadata": {
        "id": "5OboDX_xc4I9"
      },
      "outputs": [],
      "source": [
        "def show_corr(dataset, target_name, n_most=None):\n",
        "    if n_most is None:\n",
        "        n_most=len(dataset.columns.values)-1\n",
        "    corr_matrix=dataset.corr().abs()\n",
        "    \n",
        "    most_correlated_features=corr_matrix[target_name].sort_values(ascending=False).drop(target_name)\n",
        "       \n",
        "    most_correlated_feature_names=most_correlated_features.index.values\n",
        "    \n",
        "    fig, ax=plt.subplots(figsize=(15,5))\n",
        "    plt.xticks(rotation=\"90\")\n",
        "    sns.barplot(x=most_correlated_feature_names, y=most_correlated_features)\n",
        "    plt.title(\"{} correlation with the independent variables\".format(target_name))\n"
      ]
    },
    {
      "cell_type": "code",
      "execution_count": null,
      "id": "YDZvO1mwdRLK",
      "metadata": {
        "colab": {
          "base_uri": "https://localhost:8080/",
          "height": 468
        },
        "id": "YDZvO1mwdRLK",
        "outputId": "62b37c84-c433-4d4d-e8c6-866cd88a8904"
      },
      "outputs": [
        {
          "data": {
            "image/png": "[encoded data removed]",
            "text/plain": [
              "<Figure size 1080x360 with 1 Axes>"
            ]
          },
          "metadata": {
            "needs_background": "light"
          },
          "output_type": "display_data"
        }
      ],
      "source": [
        "\n",
        "    show_corr(dataset=patient_data, target_name='Result_data')"
      ]
    },
    {
      "cell_type": "code",
      "execution_count": null,
      "id": "y_aPsP8_eE7U",
      "metadata": {
        "id": "y_aPsP8_eE7U"
      },
      "outputs": [],
      "source": []
    },
    {
      "cell_type": "code",
      "execution_count": null,
      "id": "nAPwksYZeAXE",
      "metadata": {
        "colab": {
          "base_uri": "https://localhost:8080/",
          "height": 679
        },
        "id": "nAPwksYZeAXE",
        "outputId": "8c895bdd-e99b-4345-a892-b6f2e44b341d"
      },
      "outputs": [
        {
          "data": {
            "image/png": "[encoded data removed]",
            "text/plain": [
              "<Figure size 720x720 with 2 Axes>"
            ]
          },
          "metadata": {
            "needs_background": "light"
          },
          "output_type": "display_data"
        }
      ],
      "source": [
        "plt.figure(figsize=(10,10))\n",
        "sns.heatmap(patient_data.corr(), annot=True,linewidths=0.25,vmax=1.0,cmap='viridis', linecolor='black',square=True)\n",
        "plt.show()"
      ]
    },
    {
      "cell_type": "markdown",
      "id": "48b4ac02-e5ce-427d-9523-0f1bf65cc62d",
      "metadata": {
        "id": "48b4ac02-e5ce-427d-9523-0f1bf65cc62d"
      },
      "source": [
        "### 2.4 Checking distribution of classes\n"
      ]
    },
    {
      "cell_type": "code",
      "execution_count": null,
      "id": "7c8d17e8-8c59-4901-9edd-4d3831bc6a82",
      "metadata": {
        "colab": {
          "base_uri": "https://localhost:8080/"
        },
        "id": "7c8d17e8-8c59-4901-9edd-4d3831bc6a82",
        "outputId": "498d94ea-0581-4ac5-d693-5aba5cb7a0ff"
      },
      "outputs": [
        {
          "data": {
            "text/plain": [
              "1    414\n",
              "0    165\n",
              "Name: Result_data, dtype: int64"
            ]
          },
          "execution_count": 12,
          "metadata": {},
          "output_type": "execute_result"
        }
      ],
      "source": [
        "patient_data['Result_data'].value_counts()"
      ]
    },
    {
      "cell_type": "code",
      "execution_count": null,
      "id": "ca3b0515-3607-4fde-8501-eb4418018d35",
      "metadata": {
        "id": "ca3b0515-3607-4fde-8501-eb4418018d35"
      },
      "outputs": [],
      "source": [
        "\n",
        "\n",
        "\n",
        "\n",
        "X = patient_data.drop('Result_data', axis = 1).copy()"
      ]
    },
    {
      "cell_type": "code",
      "execution_count": null,
      "id": "104aa64f-b9e6-4ef5-8467-674b3ee80358",
      "metadata": {
        "id": "104aa64f-b9e6-4ef5-8467-674b3ee80358"
      },
      "outputs": [],
      "source": [
        "y = patient_data['Result_data'].copy()"
      ]
    },
    {
      "cell_type": "code",
      "execution_count": null,
      "id": "ae5fd320-ef28-4e61-ae68-c2b52697a2c4",
      "metadata": {
        "colab": {
          "base_uri": "https://localhost:8080/",
          "height": 207
        },
        "id": "ae5fd320-ef28-4e61-ae68-c2b52697a2c4",
        "outputId": "7bdcd301-e7d1-4e96-920f-4095e6db72b6"
      },
      "outputs": [
        {
          "data": {
            "text/html": [
              "\n",
              "  <div id=\"df-f0b3926a-1a10-4284-b4d6-284d7146a7bd\">\n",
              "    <div class=\"colab-df-container\">\n",
              "      <div>\n",
              "<style scoped>\n",
              "    .dataframe tbody tr th:only-of-type {\n",
              "        vertical-align: middle;\n",
              "    }\n",
              "\n",
              "    .dataframe tbody tr th {\n",
              "        vertical-align: top;\n",
              "    }\n",
              "\n",
              "    .dataframe thead th {\n",
              "        text-align: right;\n",
              "    }\n",
              "</style>\n",
              "<table border=\"1\" class=\"dataframe\">\n",
              "  <thead>\n",
              "    <tr style=\"text-align: right;\">\n",
              "      <th></th>\n",
              "      <th>Age</th>\n",
              "      <th>Gender</th>\n",
              "      <th>Total_Bilirubin</th>\n",
              "      <th>Direct_Bilirubin</th>\n",
              "      <th>Alkaline_Phosphotase</th>\n",
              "      <th>Alamine_Aminotransferase</th>\n",
              "      <th>Aspartate_Aminotransferase</th>\n",
              "      <th>Total_Protiens</th>\n",
              "      <th>Albumin</th>\n",
              "      <th>Albumin_and_Globulin_Ratio</th>\n",
              "    </tr>\n",
              "  </thead>\n",
              "  <tbody>\n",
              "    <tr>\n",
              "      <th>0</th>\n",
              "      <td>65</td>\n",
              "      <td>0</td>\n",
              "      <td>0.7</td>\n",
              "      <td>0.1</td>\n",
              "      <td>187</td>\n",
              "      <td>16</td>\n",
              "      <td>18</td>\n",
              "      <td>6.8</td>\n",
              "      <td>3.3</td>\n",
              "      <td>0.90</td>\n",
              "    </tr>\n",
              "    <tr>\n",
              "      <th>1</th>\n",
              "      <td>62</td>\n",
              "      <td>1</td>\n",
              "      <td>10.9</td>\n",
              "      <td>5.5</td>\n",
              "      <td>699</td>\n",
              "      <td>64</td>\n",
              "      <td>100</td>\n",
              "      <td>7.5</td>\n",
              "      <td>3.2</td>\n",
              "      <td>0.74</td>\n",
              "    </tr>\n",
              "    <tr>\n",
              "      <th>2</th>\n",
              "      <td>62</td>\n",
              "      <td>1</td>\n",
              "      <td>7.3</td>\n",
              "      <td>4.1</td>\n",
              "      <td>490</td>\n",
              "      <td>60</td>\n",
              "      <td>68</td>\n",
              "      <td>7.0</td>\n",
              "      <td>3.3</td>\n",
              "      <td>0.89</td>\n",
              "    </tr>\n",
              "  </tbody>\n",
              "</table>\n",
              "</div>\n",
              "      <button class=\"colab-df-convert\" onclick=\"convertToInteractive('df-f0b3926a-1a10-4284-b4d6-284d7146a7bd')\"\n",
              "              title=\"Convert this dataframe to an interactive table.\"\n",
              "              style=\"display:none;\">\n",
              "        \n",
              "  <svg xmlns=\"http://www.w3.org/2000/svg\" height=\"24px\"viewBox=\"0 0 24 24\"\n",
              "       width=\"24px\">\n",
              "    <path d=\"M0 0h24v24H0V0z\" fill=\"none\"/>\n",
              "    <path d=\"M18.56 5.44l.94 2.06.94-2.06 2.06-.94-2.06-.94-.94-2.06-.94 2.06-2.06.94zm-11 1L8.5 8.5l.94-2.06 2.06-.94-2.06-.94L8.5 2.5l-.94 2.06-2.06.94zm10 10l.94 2.06.94-2.06 2.06-.94-2.06-.94-.94-2.06-.94 2.06-2.06.94z\"/><path d=\"M17.41 7.96l-1.37-1.37c-.4-.4-.92-.59-1.43-.59-.52 0-1.04.2-1.43.59L10.3 9.45l-7.72 7.72c-.78.78-.78 2.05 0 2.83L4 21.41c.39.39.9.59 1.41.59.51 0 1.02-.2 1.41-.59l7.78-7.78 2.81-2.81c.8-.78.8-2.07 0-2.86zM5.41 20L4 18.59l7.72-7.72 1.47 1.35L5.41 20z\"/>\n",
              "  </svg>\n",
              "      </button>\n",
              "      \n",
              "  <style>\n",
              "    .colab-df-container {\n",
              "      display:flex;\n",
              "      flex-wrap:wrap;\n",
              "      gap: 12px;\n",
              "    }\n",
              "\n",
              "    .colab-df-convert {\n",
              "      background-color: #E8F0FE;\n",
              "      border: none;\n",
              "      border-radius: 50%;\n",
              "      cursor: pointer;\n",
              "      display: none;\n",
              "      fill: #1967D2;\n",
              "      height: 32px;\n",
              "      padding: 0 0 0 0;\n",
              "      width: 32px;\n",
              "    }\n",
              "\n",
              "    .colab-df-convert:hover {\n",
              "      background-color: #E2EBFA;\n",
              "      box-shadow: 0px 1px 2px rgba(60, 64, 67, 0.3), 0px 1px 3px 1px rgba(60, 64, 67, 0.15);\n",
              "      fill: #174EA6;\n",
              "    }\n",
              "\n",
              "    [theme=dark] .colab-df-convert {\n",
              "      background-color: #3B4455;\n",
              "      fill: #D2E3FC;\n",
              "    }\n",
              "\n",
              "    [theme=dark] .colab-df-convert:hover {\n",
              "      background-color: #434B5C;\n",
              "      box-shadow: 0px 1px 3px 1px rgba(0, 0, 0, 0.15);\n",
              "      filter: drop-shadow(0px 1px 2px rgba(0, 0, 0, 0.3));\n",
              "      fill: #FFFFFF;\n",
              "    }\n",
              "  </style>\n",
              "\n",
              "      <script>\n",
              "        const buttonEl =\n",
              "          document.querySelector('#df-f0b3926a-1a10-4284-b4d6-284d7146a7bd button.colab-df-convert');\n",
              "        buttonEl.style.display =\n",
              "          google.colab.kernel.accessAllowed ? 'block' : 'none';\n",
              "\n",
              "        async function convertToInteractive(key) {\n",
              "          const element = document.querySelector('#df-f0b3926a-1a10-4284-b4d6-284d7146a7bd');\n",
              "          const dataTable =\n",
              "            await google.colab.kernel.invokeFunction('convertToInteractive',\n",
              "                                                     [key], {});\n",
              "          if (!dataTable) return;\n",
              "\n",
              "          const docLinkHtml = 'Like what you see? Visit the ' +\n",
              "            '<a target=\"_blank\" href=https://colab.research.google.com/notebooks/data_table.ipynb>data table notebook</a>'\n",
              "            + ' to learn more about interactive tables.';\n",
              "          element.innerHTML = '';\n",
              "          dataTable['output_type'] = 'display_data';\n",
              "          await google.colab.output.renderOutput(dataTable, element);\n",
              "          const docLink = document.createElement('div');\n",
              "          docLink.innerHTML = docLinkHtml;\n",
              "          element.appendChild(docLink);\n",
              "        }\n",
              "      </script>\n",
              "    </div>\n",
              "  </div>\n",
              "  "
            ],
            "text/plain": [
              "   Age  Gender  Total_Bilirubin  Direct_Bilirubin  Alkaline_Phosphotase  \\\n",
              "0   65       0              0.7               0.1                   187   \n",
              "1   62       1             10.9               5.5                   699   \n",
              "2   62       1              7.3               4.1                   490   \n",
              "\n",
              "   Alamine_Aminotransferase  Aspartate_Aminotransferase  Total_Protiens  \\\n",
              "0                        16                          18             6.8   \n",
              "1                        64                         100             7.5   \n",
              "2                        60                          68             7.0   \n",
              "\n",
              "   Albumin  Albumin_and_Globulin_Ratio  \n",
              "0      3.3                        0.90  \n",
              "1      3.2                        0.74  \n",
              "2      3.3                        0.89  "
            ]
          },
          "execution_count": 15,
          "metadata": {},
          "output_type": "execute_result"
        }
      ],
      "source": [
        "X.head(3)"
      ]
    },
    {
      "cell_type": "code",
      "execution_count": null,
      "id": "8af48c19-708d-4e18-b280-ad20a942c23c",
      "metadata": {
        "colab": {
          "base_uri": "https://localhost:8080/"
        },
        "id": "8af48c19-708d-4e18-b280-ad20a942c23c",
        "outputId": "de524233-833c-4512-f305-78bf40da49e4"
      },
      "outputs": [
        {
          "data": {
            "text/plain": [
              "0    1\n",
              "1    1\n",
              "2    1\n",
              "Name: Result_data, dtype: int64"
            ]
          },
          "execution_count": 16,
          "metadata": {},
          "output_type": "execute_result"
        }
      ],
      "source": [
        "y.head(3)"
      ]
    },
    {
      "cell_type": "markdown",
      "id": "6a8911ff-c85a-4a76-a830-9f0b18f6c63d",
      "metadata": {
        "id": "6a8911ff-c85a-4a76-a830-9f0b18f6c63d"
      },
      "source": [
        "## Step 3 Split data intro training and validation sets\n"
      ]
    },
    {
      "cell_type": "markdown",
      "id": "3af7f590-4083-4249-b323-9a3c46373550",
      "metadata": {
        "id": "3af7f590-4083-4249-b323-9a3c46373550"
      },
      "source": [
        "#### Create the training set and the test set with a 70/30 split.\n",
        "We've decided to utilize a training/test split of the data at 70% training and 30% testing. This percentage split ratio is inline with common practice for small to medium sized datasets, which this data represents. Moreover, we have decided not to do a three way data split, as we are only testing two models and we wish to allocated as much data as possible to training and validation steps."
      ]
    },
    {
      "cell_type": "code",
      "execution_count": null,
      "id": "0ed5074c-eed3-4ec1-9f5c-bbcbcef64c87",
      "metadata": {
        "id": "0ed5074c-eed3-4ec1-9f5c-bbcbcef64c87"
      },
      "outputs": [],
      "source": [
        "X_train,X_test,y_train,y_test=train_test_split(X,y,test_size=0.3,random_state=1)"
      ]
    },
    {
      "cell_type": "markdown",
      "id": "D1Ufo_fpZV8a",
      "metadata": {
        "id": "D1Ufo_fpZV8a"
      },
      "source": [
        "### Balancing the Data\n",
        "As we can see that, the positive values are almost thrice the count of the negative values,\n",
        "our models wold tend to lean towards positive outcomes which would give us a biased outcome.In order to have relatively accurate prediction we need to balance our data. Here we used SMOTE technique in order to balance the data.\n"
      ]
    },
    {
      "cell_type": "code",
      "execution_count": null,
      "id": "WLvy_mcUEzIw",
      "metadata": {
        "id": "WLvy_mcUEzIw"
      },
      "outputs": [],
      "source": [
        "oversample = RandomOverSampler(sampling_strategy='minority')"
      ]
    },
    {
      "cell_type": "code",
      "execution_count": null,
      "id": "CfQEzJk-E916",
      "metadata": {
        "colab": {
          "base_uri": "https://localhost:8080/",
          "height": 295
        },
        "id": "CfQEzJk-E916",
        "outputId": "e22d285e-f71b-4375-bdc4-f844dba17371"
      },
      "outputs": [
        {
          "data": {
            "text/plain": [
              "Text(0.5, 1.0, 'Outcome ytrain (SMOTE)')"
            ]
          },
          "execution_count": 19,
          "metadata": {},
          "output_type": "execute_result"
        },
        {
          "data": {
            "image/png": "[encoded data removed]",
            "text/plain": [
              "<Figure size 432x288 with 1 Axes>"
            ]
          },
          "metadata": {
            "needs_background": "light"
          },
          "output_type": "display_data"
        }
      ],
      "source": [
        "X_train_new, y_train_new = oversample.fit_resample(X_train, y_train.ravel())\n",
        "class_balance = pd.Series(y_train_new).value_counts().plot.bar()\n",
        "class_balance.set_title(\"Outcome ytrain (SMOTE)\")"
      ]
    },
    {
      "cell_type": "code",
      "execution_count": null,
      "id": "xpmGYxeMtlOz",
      "metadata": {
        "colab": {
          "base_uri": "https://localhost:8080/"
        },
        "id": "xpmGYxeMtlOz",
        "outputId": "74727475-069d-44d6-db82-102e0072ebd7"
      },
      "outputs": [
        {
          "name": "stdout",
          "output_type": "stream",
          "text": [
            "=== Classification Report ===\n",
            "              precision    recall  f1-score   support\n",
            "\n",
            "           0       0.48      0.36      0.41        45\n",
            "           1       0.79      0.87      0.83       129\n",
            "\n",
            "    accuracy                           0.74       174\n",
            "   macro avg       0.64      0.61      0.62       174\n",
            "weighted avg       0.71      0.74      0.72       174\n",
            "\n",
            "\n",
            "\n"
          ]
        }
      ],
      "source": [
        "# random forest model creation\n",
        "randomforest = RandomForestClassifier()\n",
        "randomforest.fit(X_train,y_train)\n",
        "# predictions\n",
        "randomforest_predict = randomforest.predict(X_test)\n",
        "\n",
        "print(\"=== Classification Report ===\")\n",
        "print(classification_report(y_test, randomforest_predict))\n",
        "print('\\n')\n"
      ]
    },
    {
      "cell_type": "code",
      "execution_count": null,
      "id": "GOz4rR7EuYpG",
      "metadata": {
        "colab": {
          "base_uri": "https://localhost:8080/"
        },
        "id": "GOz4rR7EuYpG",
        "outputId": "680926c3-8127-44d3-a428-62b15237a6d3"
      },
      "outputs": [
        {
          "name": "stdout",
          "output_type": "stream",
          "text": [
            "=== Classification Report ===\n",
            "              precision    recall  f1-score   support\n",
            "\n",
            "           0       0.39      0.33      0.36        45\n",
            "           1       0.78      0.82      0.80       129\n",
            "\n",
            "    accuracy                           0.70       174\n",
            "   macro avg       0.59      0.58      0.58       174\n",
            "weighted avg       0.68      0.70      0.69       174\n",
            "\n",
            "\n",
            "\n"
          ]
        }
      ],
      "source": [
        "# Create adaboost classifer object\n",
        "abc = AdaBoostClassifier(n_estimators=50,\n",
        "                         learning_rate=1)\n",
        "# Train Adaboost Classifer\n",
        "model = abc.fit(X_train, y_train)\n",
        "\n",
        "#Predict the response for test dataset\n",
        "y_pred = model.predict(X_test)\n",
        "print(\"=== Classification Report ===\")\n",
        "print(classification_report(y_test, y_pred))\n",
        "print('\\n')"
      ]
    },
    {
      "cell_type": "code",
      "execution_count": null,
      "id": "d6NoK8_4vDzf",
      "metadata": {
        "id": "d6NoK8_4vDzf"
      },
      "outputs": [],
      "source": [
        "#Train the XGboost Model for Classification\n",
        "model1 = xgb.XGBClassifier()\n",
        "train_model1 = model1.fit(X_train, y_train)\n"
      ]
    },
    {
      "cell_type": "code",
      "execution_count": null,
      "id": "j5-w47R8vqJP",
      "metadata": {
        "colab": {
          "base_uri": "https://localhost:8080/"
        },
        "id": "j5-w47R8vqJP",
        "outputId": "b934731d-f538-47c0-9bcc-1734b27c5e30"
      },
      "outputs": [
        {
          "name": "stdout",
          "output_type": "stream",
          "text": [
            "=== Classification Report ===\n",
            "              precision    recall  f1-score   support\n",
            "\n",
            "           0       0.33      0.27      0.30        45\n",
            "           1       0.76      0.81      0.79       129\n",
            "\n",
            "    accuracy                           0.67       174\n",
            "   macro avg       0.55      0.54      0.54       174\n",
            "weighted avg       0.65      0.67      0.66       174\n",
            "\n",
            "\n",
            "\n"
          ]
        }
      ],
      "source": [
        "pred1 = train_model1.predict(X_test)\n",
        "\n",
        "print(\"=== Classification Report ===\")\n",
        "print(classification_report(y_test, pred1))\n",
        "print('\\n')\n"
      ]
    },
    {
      "cell_type": "code",
      "execution_count": null,
      "id": "yf9K8xubvqS3",
      "metadata": {
        "colab": {
          "base_uri": "https://localhost:8080/"
        },
        "id": "yf9K8xubvqS3",
        "outputId": "869ee7ac-38bd-4e18-a5d8-a6b5b9938649"
      },
      "outputs": [
        {
          "name": "stdout",
          "output_type": "stream",
          "text": [
            "Classification Report\n",
            "              precision    recall  f1-score   support\n",
            "\n",
            "           0       0.39      0.31      0.35        45\n",
            "           1       0.78      0.83      0.80       129\n",
            "\n",
            "    accuracy                           0.70       174\n",
            "   macro avg       0.58      0.57      0.57       174\n",
            "weighted avg       0.68      0.70      0.68       174\n",
            "\n"
          ]
        }
      ],
      "source": [
        "\n",
        "gb = GradientBoostingClassifier(n_estimators=20, learning_rate = 0.5, max_features=2, max_depth = 2, random_state = 0)\n",
        "gb.fit(X_train, y_train)\n",
        "predictions = gb.predict(X_test)\n",
        "\n",
        "print(\"Classification Report\")\n",
        "print(classification_report(y_test, predictions))\n",
        "\n",
        "\n"
      ]
    },
    {
      "cell_type": "code",
      "execution_count": null,
      "id": "f5XDJ-VSzoby",
      "metadata": {
        "colab": {
          "base_uri": "https://localhost:8080/"
        },
        "id": "f5XDJ-VSzoby",
        "outputId": "c390ed8c-0dc7-493d-db5d-0ccb28b68827"
      },
      "outputs": [
        {
          "name": "stdout",
          "output_type": "stream",
          "text": [
            "Classification Report\n",
            "              precision    recall  f1-score   support\n",
            "\n",
            "           0       0.35      0.44      0.39        45\n",
            "           1       0.79      0.71      0.75       129\n",
            "\n",
            "    accuracy                           0.64       174\n",
            "   macro avg       0.57      0.58      0.57       174\n",
            "weighted avg       0.67      0.64      0.66       174\n",
            "\n"
          ]
        }
      ],
      "source": [
        "dtree=DecisionTreeClassifier(random_state=1)\n",
        "dtree_fit= dtree.fit(X_train, y_train)\n",
        "predictions = dtree.predict(X_test)\n",
        "print(\"Classification Report\")\n",
        "print(classification_report(y_test, predictions))"
      ]
    },
    {
      "cell_type": "code",
      "execution_count": null,
      "id": "3a1DywskAev-",
      "metadata": {
        "colab": {
          "base_uri": "https://localhost:8080/"
        },
        "id": "3a1DywskAev-",
        "outputId": "caba57dc-6281-44d1-9075-4384df2bdd3a"
      },
      "outputs": [
        {
          "name": "stdout",
          "output_type": "stream",
          "text": [
            "Classification Report\n",
            "              precision    recall  f1-score   support\n",
            "\n",
            "           0       0.32      0.33      0.33        45\n",
            "           1       0.76      0.75      0.76       129\n",
            "\n",
            "    accuracy                           0.64       174\n",
            "   macro avg       0.54      0.54      0.54       174\n",
            "weighted avg       0.65      0.64      0.65       174\n",
            "\n"
          ]
        }
      ],
      "source": [
        "knn_clf=KNeighborsClassifier()\n",
        "knn_clf.fit(X_train,y_train)\n",
        "ypred=knn_clf.predict(X_test)\n",
        "print(\"Classification Report\")\n",
        "print(classification_report(y_test, ypred))"
      ]
    },
    {
      "cell_type": "markdown",
      "id": "9IHmmNZqzogK",
      "metadata": {
        "id": "9IHmmNZqzogK"
      },
      "source": [
        "## have to remove"
      ]
    },
    {
      "cell_type": "markdown",
      "id": "PTMUXnyb-le3",
      "metadata": {
        "id": "PTMUXnyb-le3"
      },
      "source": [
        "## ML Models with default values "
      ]
    },
    {
      "cell_type": "code",
      "execution_count": null,
      "id": "GNlv7nHVty_a",
      "metadata": {
        "id": "GNlv7nHVty_a"
      },
      "outputs": [],
      "source": [
        "# Application of all Machine Learning methods\n",
        "models = []\n",
        "models.append(('RF', RandomForestClassifier()))\n",
        "models.append(('AdaBoost', AdaBoostClassifier()))\n",
        "models.append(('KNN', KNeighborsClassifier()))\n",
        "models.append(('DecisionTree', DecisionTreeClassifier()))\n",
        "models.append(('XGBoost', XGBClassifier()))\n",
        "models.append(('GBoost', GradientBoostingClassifier()))"
      ]
    },
    {
      "cell_type": "code",
      "execution_count": null,
      "id": "QtbBUL8T1L2f",
      "metadata": {
        "colab": {
          "base_uri": "https://localhost:8080/",
          "height": 401
        },
        "id": "QtbBUL8T1L2f",
        "outputId": "3d62945c-0d88-4ecd-f866-2859cb93a8a3"
      },
      "outputs": [
        {
          "name": "stdout",
          "output_type": "stream",
          "text": [
            "RF: 0.860997 (0.051014)\n",
            "AdaBoost: 0.815297 (0.079342)\n",
            "KNN: 0.811642 (0.054356)\n",
            "DecisionTree: 0.752038 (0.059902)\n",
            "XGBoost: 0.838180 (0.060958)\n",
            "GBoost: 0.836235 (0.076771)\n"
          ]
        },
        {
          "data": {
            "image/png": "[encoded data removed]",
            "text/plain": [
              "<Figure size 432x288 with 1 Axes>"
            ]
          },
          "metadata": {
            "needs_background": "light"
          },
          "output_type": "display_data"
        }
      ],
      "source": [
        "# evaluate each model in turn\n",
        "random_seed = 1\n",
        "np.random.seed(random_seed)\n",
        "results = []\n",
        "names = []\n",
        "scoring = 'recall'\n",
        "for name, model in models:\n",
        "\tkfold = model_selection.KFold(n_splits=10)\n",
        "\tcv_results = model_selection.cross_val_score(model, X_train, y_train, cv=kfold, scoring=scoring)\n",
        "\tresults.append(cv_results)\n",
        "\tnames.append(name)\n",
        "\tmsg = \"%s: %f (%f)\" % (name, cv_results.mean(), cv_results.std())\n",
        "\tprint(msg)\n",
        "# boxplot algorithm comparison\n",
        "fig = plt.figure()\n",
        "fig.suptitle('Comparison between different MLAs')\n",
        "ax = fig.add_subplot(111)\n",
        "plt.boxplot(results)\n",
        "ax.set_xticklabels(names)\n",
        "plt.show()"
      ]
    },
    {
      "cell_type": "markdown",
      "id": "7b55772e-a8ff-44d8-bbe1-a050e27ed896",
      "metadata": {
        "id": "7b55772e-a8ff-44d8-bbe1-a050e27ed896"
      },
      "source": [
        "## DecisionTree"
      ]
    },
    {
      "cell_type": "code",
      "execution_count": null,
      "id": "61e0209f-3034-43f1-8847-c218a47a5813",
      "metadata": {
        "id": "61e0209f-3034-43f1-8847-c218a47a5813"
      },
      "outputs": [],
      "source": [
        "dtree=DecisionTreeClassifier(random_state=1)\n",
        "_ = dtree.fit(patient_data.drop(columns=['Result_data']), patient_data['Result_data'])"
      ]
    },
    {
      "cell_type": "code",
      "execution_count": null,
      "id": "34e8e911-d9c2-4868-b0a1-6ae99705094a",
      "metadata": {
        "colab": {
          "base_uri": "https://localhost:8080/"
        },
        "id": "34e8e911-d9c2-4868-b0a1-6ae99705094a",
        "outputId": "4a7fe757-aee1-49b6-ad80-254524e94996"
      },
      "outputs": [
        {
          "data": {
            "text/plain": [
              "DecisionTreeClassifier(random_state=1)"
            ]
          },
          "execution_count": 20,
          "metadata": {},
          "output_type": "execute_result"
        }
      ],
      "source": [
        "dtree.fit(X_train, y_train)"
      ]
    },
    {
      "cell_type": "code",
      "execution_count": null,
      "id": "b815015d-c631-4e17-bfca-175a55fe2a4b",
      "metadata": {
        "colab": {
          "base_uri": "https://localhost:8080/"
        },
        "id": "b815015d-c631-4e17-bfca-175a55fe2a4b",
        "outputId": "8632495d-af8c-449e-d25c-bc8d74f02c96"
      },
      "outputs": [
        {
          "name": "stdout",
          "output_type": "stream",
          "text": [
            "recall score:  0.9017543859649123\n",
            "parameters:  {'max_depth': 10, 'min_impurity_decrease': 0, 'min_samples_split': 80}\n"
          ]
        }
      ],
      "source": [
        "score_measure = 'recall'\n",
        "k_fold = 3\n",
        "# Start with an initial guess for parameters\n",
        "param_grid = {\n",
        "    'max_depth': [2, 5, 10, 20, 30, 40], \n",
        "    'min_samples_split': [2, 5, 10, 20, 40, 60, 80, 100], \n",
        "    'min_impurity_decrease': [0, 0.0005, 0.001, 0.005, 0.01], \n",
        "}\n",
        "gridSearch = GridSearchCV(DecisionTreeClassifier(random_state=1), param_grid, cv=k_fold, scoring=score_measure,\n",
        "                          n_jobs=-1)  # n_jobs=-1 will utilize all available CPUs \n",
        "gridSearch.fit(X_train, y_train)\n",
        "print(score_measure, 'score: ', gridSearch.best_score_)\n",
        "print('parameters: ', gridSearch.best_params_)\n",
        "\n",
        "\n",
        "\n",
        "bestRecallTree = gridSearch.best_estimator_"
      ]
    },
    {
      "cell_type": "code",
      "execution_count": null,
      "id": "gyK3exHuMQUm",
      "metadata": {
        "colab": {
          "base_uri": "https://localhost:8080/",
          "height": 169
        },
        "id": "gyK3exHuMQUm",
        "outputId": "0a56d105-8818-466f-dd87-004d18f8b25a"
      },
      "outputs": [
        {
          "ename": "NameError",
          "evalue": "ignored",
          "output_type": "error",
          "traceback": [
            "\u001b[0;31m---------------------------------------------------------------------------\u001b[0m",
            "\u001b[0;31mNameError\u001b[0m                                 Traceback (most recent call last)",
            "\u001b[0;32m<ipython-input-1-ffb3b77b0ed3>\u001b[0m in \u001b[0;36m<module>\u001b[0;34m\u001b[0m\n\u001b[0;32m----> 1\u001b[0;31m \u001b[0mdtree_score\u001b[0m \u001b[0;34m=\u001b[0m \u001b[0mgridSearch\u001b[0m\u001b[0;34m.\u001b[0m\u001b[0mbest_score_\u001b[0m\u001b[0;34m\u001b[0m\u001b[0;34m\u001b[0m\u001b[0m\n\u001b[0m",
            "\u001b[0;31mNameError\u001b[0m: name 'gridSearch' is not defined"
          ]
        }
      ],
      "source": [
        "dtree_score = gridSearch.best_score_"
      ]
    },
    {
      "cell_type": "code",
      "execution_count": null,
      "id": "XJTnT4lRMaWB",
      "metadata": {
        "id": "XJTnT4lRMaWB"
      },
      "outputs": [],
      "source": []
    },
    {
      "cell_type": "markdown",
      "id": "a236c381-0781-44c4-ab84-dcf2d56ae15e",
      "metadata": {
        "id": "a236c381-0781-44c4-ab84-dcf2d56ae15e"
      },
      "source": [
        "## RandomForest"
      ]
    },
    {
      "cell_type": "code",
      "execution_count": null,
      "id": "ab9ca056-e67f-4102-9c30-e522b3124d5f",
      "metadata": {
        "id": "ab9ca056-e67f-4102-9c30-e522b3124d5f"
      },
      "outputs": [],
      "source": [
        "criterion = ['gini', 'entropy']\n",
        "max_depth = [int(x) for x in np.linspace(1, 500, 50)]\n",
        "min_samples_split = [int(x) for x in np.linspace(2, 500, 50)]\n",
        "min_samples_leaf = [int(x) for x in np.linspace(1, 100, 50)]\n",
        "max_leaf_nodes = [int(x) for x in np.linspace(2, len(y_test), 50)]\n",
        "min_impurity_decrease = [x for x in np.arange(0.0, 0.01, 0.0001).round(5)]\n",
        "param_grid_random = { \n",
        "                      'criterion': criterion,\n",
        "                      'max_depth': max_depth,\n",
        "                      'min_samples_split': min_samples_split,\n",
        "                      'min_samples_leaf' : min_samples_leaf,\n",
        "                      'max_leaf_nodes' : max_leaf_nodes,\n",
        "                      'min_impurity_decrease' : min_impurity_decrease,\n",
        "                     }"
      ]
    },
    {
      "cell_type": "code",
      "execution_count": null,
      "id": "3343f434-7f6e-4783-80cd-106c442a7d92",
      "metadata": {
        "id": "3343f434-7f6e-4783-80cd-106c442a7d92"
      },
      "outputs": [],
      "source": [
        "random_seed=11\n",
        "randomtree_default = RandomForestClassifier(random_state=random_seed)\n",
        "\n",
        "best_random_search_model = RandomizedSearchCV(\n",
        "        estimator=RandomForestClassifier(random_state=random_seed), \n",
        "        scoring='recall', \n",
        "        param_distributions=param_grid_random, \n",
        "        n_iter = 2000, \n",
        "        cv=10, \n",
        "        verbose=0, \n",
        "        n_jobs = -1,\n",
        "        random_state=random_seed\n",
        "    )\n",
        "best_random_search_rtree_model = best_random_search_model.fit(X_train, y_train)"
      ]
    },
    {
      "cell_type": "code",
      "execution_count": null,
      "id": "d9dcff62-2ed0-4ece-aebd-a13f81f895f4",
      "metadata": {
        "colab": {
          "base_uri": "https://localhost:8080/"
        },
        "id": "d9dcff62-2ed0-4ece-aebd-a13f81f895f4",
        "outputId": "0eb23983-d952-44a6-f1e4-ca265ccb4f93"
      },
      "outputs": [
        {
          "name": "stdout",
          "output_type": "stream",
          "text": [
            "Best parameters found:  {'min_samples_split': 418, 'min_samples_leaf': 97, 'min_impurity_decrease': 0.0, 'max_leaf_nodes': 166, 'max_depth': 113, 'criterion': 'entropy'}\n"
          ]
        }
      ],
      "source": [
        "random_search_best_rtree_params = best_random_search_model.best_params_\n",
        "print('Best parameters found: ', random_search_best_rtree_params)"
      ]
    },
    {
      "cell_type": "code",
      "execution_count": null,
      "id": "58541fc0-3761-4ac2-9c2c-919db7061930",
      "metadata": {
        "colab": {
          "base_uri": "https://localhost:8080/"
        },
        "id": "58541fc0-3761-4ac2-9c2c-919db7061930",
        "outputId": "ea13e9b2-f7ba-4586-a2b5-bace4a3825ca"
      },
      "outputs": [
        {
          "name": "stdout",
          "output_type": "stream",
          "text": [
            "************************************\n",
            "Recall Score:     0.7413793103448276\n",
            "************************************\n",
            "Accuracy Score:   0.7413793103448276\n",
            "Precision Score:  0.5496432818073722\n",
            "F1 Score:         0.6312734721748037\n",
            "************************************\n"
          ]
        },
        {
          "name": "stderr",
          "output_type": "stream",
          "text": [
            "/usr/local/lib/python3.7/dist-packages/sklearn/metrics/_classification.py:1318: UndefinedMetricWarning: Precision is ill-defined and being set to 0.0 in labels with no predicted samples. Use `zero_division` parameter to control this behavior.\n",
            "  _warn_prf(average, modifier, msg_start, len(result))\n"
          ]
        }
      ],
      "source": [
        "y_pred = best_random_search_rtree_model.predict(X_test)\n",
        "\n",
        "print(\"************************************\")\n",
        "print(f\"{'Recall Score:':18}{recall_score(y_test, y_pred,average='weighted')}\")\n",
        "print(\"************************************\")\n",
        "print(f\"{'Accuracy Score: ':18}{accuracy_score(y_test, y_pred)}\")\n",
        "print(f\"{'Precision Score: ':18}{precision_score(y_test, y_pred,average='weighted')}\")\n",
        "print(f\"{'F1 Score: ':18}{f1_score(y_test, y_pred,average='weighted')}\")\n",
        "\n",
        "print(\"************************************\")"
      ]
    },
    {
      "cell_type": "markdown",
      "id": "Do9asovd91fQ",
      "metadata": {
        "id": "Do9asovd91fQ"
      },
      "source": [
        "## MLP Model"
      ]
    },
    {
      "cell_type": "code",
      "execution_count": null,
      "id": "xDE-LvKb-iBP",
      "metadata": {
        "colab": {
          "base_uri": "https://localhost:8080/"
        },
        "id": "xDE-LvKb-iBP",
        "outputId": "50e6129d-f33c-4102-bdd9-88411cabf0e1"
      },
      "outputs": [
        {
          "name": "stdout",
          "output_type": "stream",
          "text": [
            "Iteration 1, loss = 7.24891955\n",
            "Iteration 2, loss = 4.80861211\n",
            "Iteration 3, loss = 4.24571640\n",
            "Iteration 4, loss = 1.19064757\n",
            "Iteration 5, loss = 0.67038129\n",
            "Iteration 6, loss = 0.57392327\n",
            "Iteration 7, loss = 0.62077326\n",
            "Iteration 8, loss = 0.63469612\n",
            "Iteration 9, loss = 0.69689517\n",
            "Iteration 10, loss = 0.54064915\n",
            "Iteration 11, loss = 0.57935782\n",
            "Iteration 12, loss = 0.59919376\n",
            "Iteration 13, loss = 0.58207346\n",
            "Iteration 14, loss = 0.56805518\n",
            "Iteration 15, loss = 0.63060948\n",
            "Iteration 16, loss = 0.54395711\n",
            "Iteration 17, loss = 0.53758530\n",
            "Iteration 18, loss = 0.53503103\n",
            "Iteration 19, loss = 0.54607251\n",
            "Iteration 20, loss = 0.54073927\n",
            "Iteration 21, loss = 0.53352181\n",
            "Iteration 22, loss = 0.53003587\n",
            "Iteration 23, loss = 0.59484062\n",
            "Iteration 24, loss = 0.55187256\n",
            "Iteration 25, loss = 0.55478242\n",
            "Iteration 26, loss = 0.53210482\n",
            "Iteration 27, loss = 0.55147476\n",
            "Iteration 28, loss = 0.53167863\n",
            "Iteration 29, loss = 0.62009447\n",
            "Iteration 30, loss = 0.54707258\n",
            "Iteration 31, loss = 0.53536359\n",
            "Iteration 32, loss = 0.53469068\n",
            "Iteration 33, loss = 0.68449739\n",
            "Training loss did not improve more than tol=0.000000 for 10 consecutive epochs. Stopping.\n"
          ]
        }
      ],
      "source": [
        "clf = MLPClassifier(hidden_layer_sizes=(1000,1800,500), max_iter=5000, alpha=0.0001,\n",
        "                     solver='sgd', verbose=10,  random_state=10,tol=0.000000001)\n",
        "m2=clf.fit(X_train, y_train)"
      ]
    },
    {
      "cell_type": "code",
      "execution_count": null,
      "id": "pQC4Ei8z_dsc",
      "metadata": {
        "id": "pQC4Ei8z_dsc"
      },
      "outputs": [],
      "source": [
        "y_pred_m2 =m2.predict(X_test)"
      ]
    },
    {
      "cell_type": "code",
      "execution_count": null,
      "id": "D8zbjSl6_eGw",
      "metadata": {
        "colab": {
          "base_uri": "https://localhost:8080/"
        },
        "id": "D8zbjSl6_eGw",
        "outputId": "fb3a073d-3d1f-43bd-b4d9-c1e52b8151a1"
      },
      "outputs": [
        {
          "data": {
            "text/plain": [
              "0.8217054263565892"
            ]
          },
          "execution_count": 119,
          "metadata": {},
          "output_type": "execute_result"
        }
      ],
      "source": [
        "recall_score(y_test, y_pred_m2)"
      ]
    },
    {
      "cell_type": "markdown",
      "id": "uBrPZUPKBBlE",
      "metadata": {
        "id": "uBrPZUPKBBlE"
      },
      "source": [
        "## Gradient Boost"
      ]
    },
    {
      "cell_type": "code",
      "execution_count": null,
      "id": "VLftfRzhBQ98",
      "metadata": {
        "id": "VLftfRzhBQ98"
      },
      "outputs": [],
      "source": [
        "n_estimators = [int(x) for x in np.linspace(1, 800, 5)]\n",
        "learning_rate = [float(x) for x in np.linspace(1, 2, 1)]\n",
        "max_depth = [int(x) for x in np.linspace(1, 800, 50)]\n",
        "param_grid_random = { 'n_estimators': n_estimators,\n",
        "                      'max_depth':max_depth\n",
        "                     }"
      ]
    },
    {
      "cell_type": "code",
      "execution_count": null,
      "id": "3vLGkQLeBj-l",
      "metadata": {
        "colab": {
          "base_uri": "https://localhost:8080/"
        },
        "id": "3vLGkQLeBj-l",
        "outputId": "999c9ecf-acfb-4a7d-ffa5-39c75079920c"
      },
      "outputs": [
        {
          "name": "stderr",
          "output_type": "stream",
          "text": [
            "/usr/local/lib/python3.7/dist-packages/sklearn/model_selection/_search.py:296: UserWarning: The total space of parameters 250 is smaller than n_iter=1000. Running 250 iterations. For exhaustive searches, use GridSearchCV.\n",
            "  UserWarning,\n"
          ]
        }
      ],
      "source": [
        "random_seed=1\n",
        "best_random_search_model = RandomizedSearchCV(\n",
        "        estimator=GradientBoostingClassifier(random_state=random_seed), \n",
        "        scoring='recall', \n",
        "        param_distributions=param_grid_random, \n",
        "        n_iter = 1000, \n",
        "        cv=10, \n",
        "        verbose=0,  \n",
        "        n_jobs = -1,\n",
        "        random_state=random_seed\n",
        "    )\n",
        "best_random_search_gb_model = best_random_search_model.fit(X_train_new, y_train_new)"
      ]
    },
    {
      "cell_type": "code",
      "execution_count": null,
      "id": "f1JMKQ4SDEGY",
      "metadata": {
        "colab": {
          "base_uri": "https://localhost:8080/"
        },
        "id": "f1JMKQ4SDEGY",
        "outputId": "86e1cf25-082c-47da-f268-f5e69f1d6e58"
      },
      "outputs": [
        {
          "name": "stdout",
          "output_type": "stream",
          "text": [
            "Best parameters found:  {'n_estimators': 1, 'max_depth': 33}\n"
          ]
        }
      ],
      "source": [
        "random_search_best_gb_params = best_random_search_gb_model.best_params_\n",
        "print('Best parameters found: ', random_search_best_gb_params)"
      ]
    },
    {
      "cell_type": "code",
      "execution_count": null,
      "id": "S-AUnMfXDOtg",
      "metadata": {
        "colab": {
          "base_uri": "https://localhost:8080/"
        },
        "id": "S-AUnMfXDOtg",
        "outputId": "c8c3270b-5d4d-4c06-d262-cd14e2301f44"
      },
      "outputs": [
        {
          "name": "stdout",
          "output_type": "stream",
          "text": [
            "Best Recall score is 0.7717980295566502\n"
          ]
        }
      ],
      "source": [
        "print(\"Best Recall score is {}\".format(best_random_search_gb_model.best_score_))"
      ]
    },
    {
      "cell_type": "markdown",
      "id": "a12621e5-fc88-4578-af6a-17fe5959e10d",
      "metadata": {
        "id": "a12621e5-fc88-4578-af6a-17fe5959e10d"
      },
      "source": [
        "## AdaBoost"
      ]
    },
    {
      "cell_type": "code",
      "execution_count": null,
      "id": "D6p_QjOc3Ugj",
      "metadata": {
        "colab": {
          "base_uri": "https://localhost:8080/"
        },
        "id": "D6p_QjOc3Ugj",
        "outputId": "e83a8f17-d33b-4c3f-ba19-527a0bf49b47"
      },
      "outputs": [
        {
          "name": "stdout",
          "output_type": "stream",
          "text": [
            "Fitting 5 folds for each of 16 candidates, totalling 80 fits\n",
            "recall score:  0.7508771929824561\n",
            "parameters:  {'learning_rate': 1.0, 'n_estimators': 250}\n"
          ]
        }
      ],
      "source": [
        "\n",
        "#AdaBoostClassifier\n",
        "\n",
        "param_grid = {\n",
        "           'learning_rate': [0.001, 0.01, 0.1, 1.0],\n",
        "           'n_estimators': [10, 50, 100, 250]\n",
        "              }\n",
        "best_grid_search_model = GridSearchCV(estimator=AdaBoostClassifier(random_state=3),\n",
        "                                    scoring='recall', param_grid=param_grid, verbose=1,  n_jobs = -1)\n",
        "_ = best_grid_search_model.fit(X_train_new, y_train_new)\n",
        "print('recall', 'score: ', best_grid_search_model.best_score_)\n",
        "print('parameters: ', best_grid_search_model.best_params_)"
      ]
    },
    {
      "cell_type": "code",
      "execution_count": null,
      "id": "ZGdES2cl9QJI",
      "metadata": {
        "id": "ZGdES2cl9QJI"
      },
      "outputs": [],
      "source": []
    },
    {
      "cell_type": "markdown",
      "id": "6sS1_N2gIUDp",
      "metadata": {
        "id": "6sS1_N2gIUDp"
      },
      "source": [
        "## XGBoost"
      ]
    },
    {
      "cell_type": "code",
      "execution_count": null,
      "id": "Mg87agUdIURt",
      "metadata": {
        "colab": {
          "base_uri": "https://localhost:8080/"
        },
        "id": "Mg87agUdIURt",
        "outputId": "fc275a3d-1203-4f02-cc83-00df698020c5"
      },
      "outputs": [
        {
          "name": "stdout",
          "output_type": "stream",
          "text": [
            "{'n_estimators': [800], 'min_child_weight': [4, 5], 'gamma': [0.3, 0.4, 0.5], 'subsample': [0.6, 0.7, 0.8, 0.9, 1.0], 'colsample_bytree': [0.6, 0.7, 0.8, 0.9, 1.0], 'max_depth': [2, 3, 4, 6, 7], 'objective': ['reg:squarederror', 'reg:tweedie'], 'booster': ['gbtree', 'gblinear'], 'eval_metric': ['rmse'], 'eta': [0.3, 0.4, 0.5]}\n"
          ]
        }
      ],
      "source": [
        "\n",
        "\n",
        "param = {\n",
        "        'classifier__min_child_weight': [1, 5, 10],\n",
        "        'classifier__gamma': [0.5, 1, 1.5, 2, 5],\n",
        "        'classifier__subsample': [0.6, 0.8, 1.0],\n",
        "        'classifier__max_depth': [3, 4, 5],\n",
        "        'classifier' : XGBClassifier()\n",
        "        }\n",
        "\n",
        "print(params)"
      ]
    },
    {
      "cell_type": "code",
      "execution_count": null,
      "id": "F5eij5b83UuN",
      "metadata": {
        "id": "F5eij5b83UuN"
      },
      "outputs": [],
      "source": [
        "random_seed=11\n",
        "XGB_C = XGBClassifier(random_state=random_seed,objective='multi:softmax')\n",
        "best_random_search_model = RandomizedSearchCV(\n",
        "        estimator= XGB_C, \n",
        "        scoring='recall', \n",
        "        param_distributions=params, \n",
        "        n_iter = 200, \n",
        "        cv=5, \n",
        "        verbose=0, \n",
        "        n_jobs = -1,  )"
      ]
    },
    {
      "cell_type": "code",
      "execution_count": null,
      "id": "nnA3CSXOJOZd",
      "metadata": {
        "id": "nnA3CSXOJOZd"
      },
      "outputs": [],
      "source": [
        "best_random_search_gb_model =best_random_search_model.fit(X_train_new, y_train_new)"
      ]
    },
    {
      "cell_type": "code",
      "execution_count": null,
      "id": "eTKuvuR3JWvS",
      "metadata": {
        "colab": {
          "base_uri": "https://localhost:8080/"
        },
        "id": "eTKuvuR3JWvS",
        "outputId": "22645d85-07cf-4116-de98-50072d998d56"
      },
      "outputs": [
        {
          "name": "stdout",
          "output_type": "stream",
          "text": [
            "Best  score is 0.775438596491228\n"
          ]
        }
      ],
      "source": [
        "print(\"Best  score is {}\".format(best_random_search_gb_model.best_score_))"
      ]
    },
    {
      "cell_type": "markdown",
      "id": "jNK8hzBMOiNB",
      "metadata": {
        "id": "jNK8hzBMOiNB"
      },
      "source": [
        "k-NN Model"
      ]
    },
    {
      "cell_type": "code",
      "execution_count": null,
      "id": "B2SNaK0TbzIm",
      "metadata": {
        "id": "B2SNaK0TbzIm"
      },
      "outputs": [],
      "source": [
        "\n",
        "\n",
        "criterion = ['gini', 'entropy']\n",
        "max_depth = [int(x) for x in np.linspace(1, 500, 50)]\n",
        "min_samples_split = [int(x) for x in np.linspace(2, 500, 50)]\n",
        "min_samples_leaf = [int(x) for x in np.linspace(1, 100, 50)]\n",
        "max_leaf_nodes = [int(x) for x in np.linspace(2, len(y_test), 50)]\n",
        "min_impurity_decrease = [x for x in np.arange(0.0,0.001, 0.0001).round(5)]\n",
        "\n",
        "param_grid_random = { 'n_neighbors': list(range(1,49,2)),\n",
        "                     'metric': ['euclidean', 'cosine']\n",
        "                     }                     "
      ]
    },
    {
      "cell_type": "code",
      "execution_count": null,
      "id": "g6yZQtOZclVV",
      "metadata": {
        "colab": {
          "base_uri": "https://localhost:8080/"
        },
        "id": "g6yZQtOZclVV",
        "outputId": "16cf702b-570c-4434-bbce-f4a37387fe1d"
      },
      "outputs": [
        {
          "name": "stderr",
          "output_type": "stream",
          "text": [
            "/usr/local/lib/python3.7/dist-packages/sklearn/model_selection/_search.py:296: UserWarning: The total space of parameters 48 is smaller than n_iter=200. Running 48 iterations. For exhaustive searches, use GridSearchCV.\n",
            "  UserWarning,\n"
          ]
        }
      ],
      "source": [
        "random_seed=11\n",
        "#dtree_default = KNeighborsClassifier(random_state=random_seed)\n",
        "# change n_iter to 200_000 for full run\n",
        "best_random_search_model = RandomizedSearchCV(\n",
        "        estimator=KNeighborsClassifier(), \n",
        "        scoring='recall', \n",
        "        param_distributions=param_grid_random, \n",
        "        n_iter = 200, \n",
        "        cv=10, \n",
        "        verbose=0, \n",
        "        n_jobs = -1,\n",
        "        random_state=random_seed\n",
        "    )\n",
        "best_random_search_dtree_model = best_random_search_model.fit(X_train_new, y_train_new)"
      ]
    },
    {
      "cell_type": "code",
      "execution_count": null,
      "id": "-hMRTvI3c17m",
      "metadata": {
        "colab": {
          "base_uri": "https://localhost:8080/"
        },
        "id": "-hMRTvI3c17m",
        "outputId": "5b274416-75e7-433c-c56c-3bc07e62ea89"
      },
      "outputs": [
        {
          "name": "stdout",
          "output_type": "stream",
          "text": [
            "Best parameters found:  {'n_neighbors': 1, 'metric': 'euclidean'}\n"
          ]
        }
      ],
      "source": [
        "random_search_best_dtree_params = best_random_search_dtree_model.best_params_\n",
        "print('Best parameters found: ', random_search_best_dtree_params)"
      ]
    },
    {
      "cell_type": "code",
      "execution_count": null,
      "id": "dY0DgybWdHq4",
      "metadata": {
        "colab": {
          "base_uri": "https://localhost:8080/"
        },
        "id": "dY0DgybWdHq4",
        "outputId": "7c270dca-3a88-4a20-8c7d-ccbd69803105"
      },
      "outputs": [
        {
          "name": "stdout",
          "output_type": "stream",
          "text": [
            "recall score:  0.736576354679803\n",
            "parameters:  {'metric': 'euclidean', 'n_neighbors': 1}\n"
          ]
        }
      ],
      "source": [
        "gridSearch = GridSearchCV(KNeighborsClassifier(), param_grid_random, cv=10, scoring='recall',\n",
        "                          n_jobs=-1)  # n_jobs=-1 will utilize all available CPUs \n",
        "gridSearch.fit(X_train_new, y_train_new)\n",
        "print('recall', 'score: ', gridSearch.best_score_)\n",
        "print('parameters: ', gridSearch.best_params_)\n",
        "\n",
        "bestAccuracyKnn = gridSearch.best_estimator_"
      ]
    },
    {
      "cell_type": "code",
      "execution_count": null,
      "id": "L202lI35feni",
      "metadata": {
        "id": "L202lI35feni"
      },
      "outputs": [],
      "source": []
    }
  ],
  "metadata": {
    "colab": {
      "collapsed_sections": [
        "7b55772e-a8ff-44d8-bbe1-a050e27ed896",
        "Do9asovd91fQ",
        "uBrPZUPKBBlE",
        "a12621e5-fc88-4578-af6a-17fe5959e10d",
        "QLWHUJ4C9pMj"
      ],
      "provenance": []
    },
    "kernelspec": {
      "display_name": "Python 3 (ipykernel)",
      "language": "python",
      "name": "python3"
    },
    "language_info": {
      "codemirror_mode": {
        "name": "ipython",
        "version": 3
      },
      "file_extension": ".py",
      "mimetype": "text/x-python",
      "name": "python",
      "nbconvert_exporter": "python",
      "pygments_lexer": "ipython3",
      "version": "3.9.12"
    }
  },
  "nbformat": 4,
  "nbformat_minor": 5
}
